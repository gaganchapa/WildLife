{
 "cells": [
  {
   "cell_type": "code",
   "execution_count": 2,
   "metadata": {},
   "outputs": [
    {
     "name": "stdout",
     "output_type": "stream",
     "text": [
      "         lat        lon\n",
      "0  10.783018  76.686264\n",
      "1  10.790671  76.677695\n"
     ]
    }
   ],
   "source": [
    "import pandas as pd\n",
    "\n",
    "chart_data = pd.DataFrame(\n",
    "   [[10.783018, 76.686264],[10.790671, 76.677695]],\n",
    "   columns=['lat', 'lon'])\n",
    "\n",
    "print(chart_data)\n"
   ]
  },
  {
   "cell_type": "code",
   "execution_count": 3,
   "metadata": {},
   "outputs": [
    {
     "data": {
      "text/html": [
       "<div>\n",
       "<style scoped>\n",
       "    .dataframe tbody tr th:only-of-type {\n",
       "        vertical-align: middle;\n",
       "    }\n",
       "\n",
       "    .dataframe tbody tr th {\n",
       "        vertical-align: top;\n",
       "    }\n",
       "\n",
       "    .dataframe thead th {\n",
       "        text-align: right;\n",
       "    }\n",
       "</style>\n",
       "<table border=\"1\" class=\"dataframe\">\n",
       "  <thead>\n",
       "    <tr style=\"text-align: right;\">\n",
       "      <th></th>\n",
       "      <th>lat</th>\n",
       "      <th>lon</th>\n",
       "    </tr>\n",
       "  </thead>\n",
       "  <tbody>\n",
       "    <tr>\n",
       "      <th>0</th>\n",
       "      <td>10.783018</td>\n",
       "      <td>76.686264</td>\n",
       "    </tr>\n",
       "    <tr>\n",
       "      <th>1</th>\n",
       "      <td>10.790671</td>\n",
       "      <td>76.677695</td>\n",
       "    </tr>\n",
       "  </tbody>\n",
       "</table>\n",
       "</div>"
      ],
      "text/plain": [
       "         lat        lon\n",
       "0  10.783018  76.686264\n",
       "1  10.790671  76.677695"
      ]
     },
     "execution_count": 3,
     "metadata": {},
     "output_type": "execute_result"
    }
   ],
   "source": [
    "chart_data.head()"
   ]
  },
  {
   "cell_type": "code",
   "execution_count": 16,
   "metadata": {},
   "outputs": [
    {
     "name": "stdout",
     "output_type": "stream",
     "text": [
      "          lat        lon\n",
      "0   10.785246  76.694526\n",
      "1   10.791748  76.675863\n",
      "2   10.787896  76.672836\n",
      "3   10.794146  76.683467\n",
      "4   10.790510  76.685783\n",
      "5   10.800885  76.667400\n",
      "6   10.794227  76.674533\n",
      "7   10.797347  76.686575\n",
      "8   10.782385  76.693486\n",
      "9   10.797404  76.668534\n",
      "10  10.784986  76.687161\n",
      "11  10.783542  76.684216\n",
      "12  10.783143  76.683381\n",
      "13  10.784660  76.674715\n",
      "14  10.782263  76.671031\n",
      "15  10.801321  76.682059\n",
      "16  10.785732  76.695920\n",
      "17  10.780116  76.681697\n",
      "18  10.782773  76.674291\n",
      "19  10.778588  76.682993\n"
     ]
    }
   ],
   "source": [
    "import pandas as pd\n",
    "import numpy as np\n",
    "\n",
    "# Original latitude and longitude values\n",
    "original_data = [[10.783018, 76.686264], [10.790671, 76.677695]]\n",
    "\n",
    "# Generate latitude and longitude data for 50 rows with slight variations\n",
    "np.random.seed(0)  # for reproducibility\n",
    "num_rows = 100\n",
    "data = []\n",
    "for _ in range(num_rows):\n",
    "    data.append([coord + np.random.uniform(-0.012, 0.012) for coord in original_data[np.random.randint(0, 2)]])\n",
    "\n",
    "# Repeat some rows multiple times\n",
    "data = data + data[:10] * 4  # Repeat the first 10 rows 4 times\n",
    "\n",
    "# Create DataFrame\n",
    "chart_data = pd.DataFrame(data, columns=['lat', 'lon'])\n",
    "\n",
    "print(chart_data.head(20))  # Display the first 20 rows for verification\n"
   ]
  },
  {
   "cell_type": "code",
   "execution_count": 17,
   "metadata": {},
   "outputs": [
    {
     "data": {
      "text/plain": [
       "(140, 2)"
      ]
     },
     "execution_count": 17,
     "metadata": {},
     "output_type": "execute_result"
    }
   ],
   "source": [
    "chart_data.shape"
   ]
  },
  {
   "cell_type": "code",
   "execution_count": 18,
   "metadata": {},
   "outputs": [],
   "source": [
    "chart_data.to_csv(\"Miine.csv\")"
   ]
  },
  {
   "cell_type": "code",
   "execution_count": 19,
   "metadata": {},
   "outputs": [
    {
     "data": {
      "text/html": [
       "<div>\n",
       "<style scoped>\n",
       "    .dataframe tbody tr th:only-of-type {\n",
       "        vertical-align: middle;\n",
       "    }\n",
       "\n",
       "    .dataframe tbody tr th {\n",
       "        vertical-align: top;\n",
       "    }\n",
       "\n",
       "    .dataframe thead th {\n",
       "        text-align: right;\n",
       "    }\n",
       "</style>\n",
       "<table border=\"1\" class=\"dataframe\">\n",
       "  <thead>\n",
       "    <tr style=\"text-align: right;\">\n",
       "      <th></th>\n",
       "      <th>Pole</th>\n",
       "      <th>Count</th>\n",
       "    </tr>\n",
       "  </thead>\n",
       "  <tbody>\n",
       "    <tr>\n",
       "      <th>0</th>\n",
       "      <td>1</td>\n",
       "      <td>1</td>\n",
       "    </tr>\n",
       "    <tr>\n",
       "      <th>1</th>\n",
       "      <td>2</td>\n",
       "      <td>2</td>\n",
       "    </tr>\n",
       "    <tr>\n",
       "      <th>2</th>\n",
       "      <td>3</td>\n",
       "      <td>2</td>\n",
       "    </tr>\n",
       "    <tr>\n",
       "      <th>3</th>\n",
       "      <td>4</td>\n",
       "      <td>1</td>\n",
       "    </tr>\n",
       "    <tr>\n",
       "      <th>4</th>\n",
       "      <td>5</td>\n",
       "      <td>0</td>\n",
       "    </tr>\n",
       "    <tr>\n",
       "      <th>5</th>\n",
       "      <td>6</td>\n",
       "      <td>0</td>\n",
       "    </tr>\n",
       "    <tr>\n",
       "      <th>6</th>\n",
       "      <td>7</td>\n",
       "      <td>1</td>\n",
       "    </tr>\n",
       "    <tr>\n",
       "      <th>7</th>\n",
       "      <td>8</td>\n",
       "      <td>0</td>\n",
       "    </tr>\n",
       "    <tr>\n",
       "      <th>8</th>\n",
       "      <td>9</td>\n",
       "      <td>0</td>\n",
       "    </tr>\n",
       "    <tr>\n",
       "      <th>9</th>\n",
       "      <td>10</td>\n",
       "      <td>3</td>\n",
       "    </tr>\n",
       "    <tr>\n",
       "      <th>10</th>\n",
       "      <td>11</td>\n",
       "      <td>4</td>\n",
       "    </tr>\n",
       "    <tr>\n",
       "      <th>11</th>\n",
       "      <td>12</td>\n",
       "      <td>0</td>\n",
       "    </tr>\n",
       "  </tbody>\n",
       "</table>\n",
       "</div>"
      ],
      "text/plain": [
       "    Pole  Count\n",
       "0      1      1\n",
       "1      2      2\n",
       "2      3      2\n",
       "3      4      1\n",
       "4      5      0\n",
       "5      6      0\n",
       "6      7      1\n",
       "7      8      0\n",
       "8      9      0\n",
       "9     10      3\n",
       "10    11      4\n",
       "11    12      0"
      ]
     },
     "execution_count": 19,
     "metadata": {},
     "output_type": "execute_result"
    }
   ],
   "source": [
    "chart_data = pd.DataFrame(\n",
    "    {\n",
    "        \"Pole\": [1,2,3,4,5,6,7,8,9,10,11,12],\n",
    "        \"Count\": [1,2,2,1,0,0,1,0,0,3,4,0]\n",
    "    }\n",
    "    )\n",
    "chart_data"
   ]
  },
  {
   "cell_type": "code",
   "execution_count": 1,
   "metadata": {},
   "outputs": [],
   "source": [
    "import csv\n",
    "\n",
    "# Function to generate latitude and longitude with variations\n",
    "def generate_coordinates(base_lat, base_lon, num_rows):\n",
    "    coordinates = []\n",
    "    lat_variation = 0.1\n",
    "    lon_variation = 0.1\n",
    "    for i in range(num_rows):\n",
    "        lat = base_lat + (i % 10) * lat_variation\n",
    "        lon = base_lon + (i % 10) * lon_variation\n",
    "        coordinates.append((lat, lon))\n",
    "    return coordinates\n",
    "\n",
    "# Base latitude and longitude\n",
    "base_lat = 10.78394644618225\n",
    "base_lon = 76.6897066574858\n",
    "\n",
    "# Generate coordinates\n",
    "coordinates = generate_coordinates(base_lat, base_lon, 250)\n",
    "\n",
    "# Write coordinates to CSV file\n",
    "with open('coordinates.csv', 'w', newline='') as csvfile:\n",
    "    fieldnames = ['lat', 'lon']\n",
    "    writer = csv.DictWriter(csvfile, fieldnames=fieldnames)\n",
    "    \n",
    "    writer.writeheader()\n",
    "    for i, (lat, lon) in enumerate(coordinates):\n",
    "        writer.writerow({'lat': lat, 'lon': lon})\n"
   ]
  },
  {
   "cell_type": "code",
   "execution_count": null,
   "metadata": {},
   "outputs": [],
   "source": []
  }
 ],
 "metadata": {
  "kernelspec": {
   "display_name": "gpu",
   "language": "python",
   "name": "python3"
  },
  "language_info": {
   "codemirror_mode": {
    "name": "ipython",
    "version": 3
   },
   "file_extension": ".py",
   "mimetype": "text/x-python",
   "name": "python",
   "nbconvert_exporter": "python",
   "pygments_lexer": "ipython3",
   "version": "3.8.17"
  }
 },
 "nbformat": 4,
 "nbformat_minor": 2
}
